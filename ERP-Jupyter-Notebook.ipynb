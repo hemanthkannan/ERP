{
 "cells": [
  {
   "cell_type": "code",
   "execution_count": 1,
   "id": "68396670",
   "metadata": {},
   "outputs": [],
   "source": [
    "import pandas as pd\n",
    "import pyodbc as pc\n",
    "from sqlalchemy import create_engine\n",
    "import datetime as datetime\n",
    "pd.set_option('display.max_rows',500)\n",
    "pd.set_option('display.max_columns',500)\n",
    "pd.set_option('display.width',5000)"
   ]
  },
  {
   "cell_type": "code",
   "execution_count": 2,
   "id": "a569ce3d",
   "metadata": {},
   "outputs": [
    {
     "name": "stderr",
     "output_type": "stream",
     "text": [
      "<>:4: SyntaxWarning: invalid escape sequence '\\S'\n",
      "<>:15: SyntaxWarning: invalid escape sequence '\\S'\n",
      "<>:4: SyntaxWarning: invalid escape sequence '\\S'\n",
      "<>:15: SyntaxWarning: invalid escape sequence '\\S'\n",
      "C:\\Users\\new\\AppData\\Local\\Temp\\ipykernel_6968\\3544130938.py:4: SyntaxWarning: invalid escape sequence '\\S'\n",
      "  server = 'DESKTOP-L57QDTP\\SQLEXPRESS'\n",
      "C:\\Users\\new\\AppData\\Local\\Temp\\ipykernel_6968\\3544130938.py:15: SyntaxWarning: invalid escape sequence '\\S'\n",
      "  server1 = 'DESKTOP-L57QDTP\\SQLEXPRESS'\n",
      "C:\\Users\\new\\AppData\\Local\\Temp\\ipykernel_6968\\3544130938.py:25: UserWarning: pandas only supports SQLAlchemy connectable (engine/connection) or database string URI or sqlite3 DBAPI2 connection. Other DBAPI2 objects are not tested. Please consider using SQLAlchemy.\n",
      "  df_sreem = pd.read_sql(sql,conn)\n",
      "C:\\Users\\new\\AppData\\Local\\Temp\\ipykernel_6968\\3544130938.py:28: UserWarning: pandas only supports SQLAlchemy connectable (engine/connection) or database string URI or sqlite3 DBAPI2 connection. Other DBAPI2 objects are not tested. Please consider using SQLAlchemy.\n",
      "  df_suri = pd.read_sql(sql1,conn1)\n"
     ]
    }
   ],
   "source": [
    "databaseName = 'sreeman_live'\n",
    "username = 'sa'\n",
    "password = 'Hemanth@123'\n",
    "server = 'DESKTOP-L57QDTP\\SQLEXPRESS'\n",
    "driver= '{SQL Server Native Client 10.0}'\n",
    "CONNECTION_STRING = 'DRIVER='+driver+';SERVER='+server+';DATABASE='+databaseName+';UID='+username+';PWD='+ password\n",
    "#Create/Open a Connection to Microsoft's SQL Server\n",
    "conn = pc.connect(CONNECTION_STRING)\n",
    "#Close the Connection\n",
    "#conn.close()\n",
    "\n",
    "databaseName1 = 'suriya_live'\n",
    "username1 = 'sa'\n",
    "password1 = 'Hemanth@123'\n",
    "server1 = 'DESKTOP-L57QDTP\\SQLEXPRESS'\n",
    "driver1= '{SQL Server Native Client 10.0}'\n",
    "\n",
    "CONNECTION_STRING2 = 'DRIVER='+driver1+';SERVER='+server1+';DATABASE='+databaseName1+';UID='+username1+';PWD='+ password1\n",
    "#Create/Open a Connection to Microsoft's SQL Server\n",
    "conn1 = pc.connect(CONNECTION_STRING2)\n",
    "#Close the Connection\n",
    "#conn.close()\n",
    "\n",
    "sql = \"SELECT * FROM DBO.Sreeman_full_data_view\"\n",
    "df_sreem = pd.read_sql(sql,conn)\n",
    "\n",
    "sql1 = \"SELECT * FROM DBO.Suriya_full_data_view\"\n",
    "df_suri = pd.read_sql(sql1,conn1)"
   ]
  },
  {
   "cell_type": "code",
   "execution_count": null,
   "id": "83a7f906-6675-4826-9a84-18fe375ccc35",
   "metadata": {},
   "outputs": [],
   "source": [
    "# Set up the connections\n",
    "databaseName = 'sreeman_live'\n",
    "username = 'sa'\n",
    "password = 'sa'\n",
    "server = 'SREEMAN-NEW'\n",
    "driver = '{SQL Server Native Client 10.0}'\n",
    "CONNECTION_STRING = 'DRIVER=' + driver + ';SERVER=' + server + ';DATABASE=' + databaseName + ';UID=' + username + ';PWD=' + password\n",
    "\n",
    "databaseName1 = 'suriya_live'\n",
    "username1 = 'sa'\n",
    "password1 = 'sa'\n",
    "server1 = 'SREEMAN-NEW'\n",
    "driver1 = '{SQL Server Native Client 10.0}'\n",
    "CONNECTION_STRING2 = 'DRIVER=' + driver1 + ';SERVER=' + server1 + ';DATABASE=' + databaseName1 + ';UID=' + username1 + ';PWD=' + password1\n",
    "\n",
    "# Create/Open connections\n",
    "conn = pyodbc.connect(CONNECTION_STRING)\n",
    "conn1 = pyodbc.connect(CONNECTION_STRING2)\n",
    "\n",
    "# Execute SQL queries and create DataFrames\n",
    "sql = \"SELECT * FROM DBO.Sreeman_full_data_view\"\n",
    "df_sreem = pd.read_sql(sql, conn)\n",
    "\n",
    "sql1 = \"SELECT * FROM DBO.Suriya_full_data_view\"\n",
    "df_suri = pd.read_sql(sql1, conn1)"
   ]
  },
  {
   "cell_type": "code",
   "execution_count": 3,
   "id": "abe38540-6895-43a3-962d-bfe5722145f5",
   "metadata": {},
   "outputs": [],
   "source": [
    "#df_sreeman=df_sreeman\n",
    "df_suriya=df_suri\n",
    "df_sreeman=df_sreem\n",
    "\n",
    "df_sreeman['Company']='Sreeman'\n",
    "df_suriya['Company']='Suriya'\n",
    "\n",
    "df = pd.concat([df_sreeman, df_suriya], ignore_index=True)\n",
    "\n",
    "\n",
    "def date_ext_mon1(mon):\n",
    "    datee = datetime.datetime.strptime(mon, \"%Y-%m-%d\")\n",
    "    month = datetime.date(datee.year, datee.month, datee.day).strftime('%B')\n",
    "    return month\n",
    "\n",
    "def date_ext_year1(year):\n",
    "    #print(year)\n",
    "    datee = datetime.datetime.strptime(year, \"%Y-%m-%d\")\n",
    "    Year = datee.year\n",
    "    return Year\n",
    "\n",
    "def date_ext_day1(day):\n",
    "    datee = datetime.datetime.strptime(day, \"%Y-%m-%d\")\n",
    "    Day = datee.day\n",
    "    return Day\n",
    "\n",
    "#this is for sreeman.\n",
    "##this is to filter out the unit wise payment.\n",
    "df['lr_hire_date']= df['lr_hire_date'].astype(str)\n",
    "df['lr_hire_date']= df['lr_hire_date'].astype(str)\n",
    "df['YEAR']=df['lr_hire_date'].apply(lambda x: date_ext_year1(x))\n",
    "df['MONTH']=df['lr_hire_date'].apply(lambda x: date_ext_mon1(x))\n",
    "df['DAY']=df['lr_hire_date'].apply(lambda x: date_ext_day1(x))"
   ]
  },
  {
   "cell_type": "code",
   "execution_count": 32,
   "id": "86fa1884",
   "metadata": {},
   "outputs": [],
   "source": [
    "df1=df"
   ]
  },
  {
   "cell_type": "code",
   "execution_count": 33,
   "id": "a4a448af",
   "metadata": {},
   "outputs": [],
   "source": [
    "df1=df1[(df1['lr_hire_date']>='2023-12-01') & (df1['lr_hire_date']<='2023-12-09')]"
   ]
  },
  {
   "cell_type": "code",
   "execution_count": 34,
   "id": "d109cf13-b0e5-4db6-a1a9-3927d51d3aad",
   "metadata": {},
   "outputs": [],
   "source": [
    "shipped_from='M/S. AQUASUB ENGINEERING'\n",
    "freight_billed_to='M/S. AQUASUB ENGINEERING (VIJ)'\n",
    "# dont use this while generating report for invoice for now\n",
    "df1=df1[(df1['from_branch']==shipped_from) & (df1['to_branch']==freight_billed_to)]"
   ]
  },
  {
   "cell_type": "code",
   "execution_count": 35,
   "id": "a8077a9d",
   "metadata": {},
   "outputs": [
    {
     "name": "stderr",
     "output_type": "stream",
     "text": [
      "C:\\Users\\new\\AppData\\Local\\Temp\\ipykernel_6968\\844300457.py:4: SettingWithCopyWarning: \n",
      "A value is trying to be set on a copy of a slice from a DataFrame.\n",
      "Try using .loc[row_indexer,col_indexer] = value instead\n",
      "\n",
      "See the caveats in the documentation: https://pandas.pydata.org/pandas-docs/stable/user_guide/indexing.html#returning-a-view-versus-a-copy\n",
      "  df4['stat_chg']=15\n",
      "C:\\Users\\new\\AppData\\Local\\Temp\\ipykernel_6968\\844300457.py:5: SettingWithCopyWarning: \n",
      "A value is trying to be set on a copy of a slice from a DataFrame.\n",
      "Try using .loc[row_indexer,col_indexer] = value instead\n",
      "\n",
      "See the caveats in the documentation: https://pandas.pydata.org/pandas-docs/stable/user_guide/indexing.html#returning-a-view-versus-a-copy\n",
      "  df4['total_amount']=round((df4['LR_weight']*df4['LR_Rate'])+df4['stat_chg'])\n"
     ]
    }
   ],
   "source": [
    "df2=df1.groupby(['Company','gdm_no','lr_hire_date','lr_number','lorry_reg_number','LR_party_invoice','from_branch','to_branch','LR_no_of_packages','LR_weight','consignor_addr','from_city','consignor_pincode','consignor_state','consignee_addr','to_city','consignee_pincode','consignee_state','consignee_gstin','consignor_gstin'])['LR_Rate'].unique().reset_index().explode('LR_Rate')\n",
    "df3=df2.groupby(['Company','gdm_no','lr_hire_date','lr_number','lorry_reg_number','from_branch','to_branch','LR_weight','LR_Rate','consignor_addr','from_city','consignor_pincode','consignor_state','consignee_addr','to_city','consignee_pincode','consignee_state','consignee_gstin','consignor_gstin']).agg({'LR_no_of_packages':'sum'}).reset_index()\n",
    "df4=df3[['Company','gdm_no','from_branch','to_branch','lr_hire_date','lr_number','lorry_reg_number','LR_no_of_packages','LR_weight','LR_Rate','consignor_addr','from_city','consignor_pincode','consignor_state','consignee_addr','to_city','consignee_pincode','consignee_state','consignee_gstin','consignor_gstin']]\n",
    "df4['stat_chg']=15\n",
    "df4['total_amount']=round((df4['LR_weight']*df4['LR_Rate'])+df4['stat_chg'])\n",
    "#df4=df4[['Company','gdm_no','from_branch','to_branch','lr_hire_date', 'lr_number', 'lorry_reg_number', 'LR_no_of_packages', 'LR_weight', 'LR_Rate','stat_chg', 'total_amount']]"
   ]
  },
  {
   "cell_type": "code",
   "execution_count": 21,
   "id": "1d5b9e44",
   "metadata": {},
   "outputs": [],
   "source": [
    "df4.to_excel('taxinvoicereport.xlsx')"
   ]
  },
  {
   "cell_type": "code",
   "execution_count": 39,
   "id": "fba78526-20e1-4358-8022-276e50c387d1",
   "metadata": {},
   "outputs": [
    {
     "data": {
      "text/plain": [
       "'37AADFA8028P1Z1'"
      ]
     },
     "execution_count": 39,
     "metadata": {},
     "output_type": "execute_result"
    }
   ],
   "source": [
    "df4['consignee_gstin'].unique()[0]\n",
    "df4['consignor_gstin'].unique()[0]"
   ]
  },
  {
   "cell_type": "code",
   "execution_count": 41,
   "id": "27ea5fd5-197d-41f2-89c0-35f67e0e1ece",
   "metadata": {},
   "outputs": [
    {
     "data": {
      "text/html": [
       "<div>\n",
       "<style scoped>\n",
       "    .dataframe tbody tr th:only-of-type {\n",
       "        vertical-align: middle;\n",
       "    }\n",
       "\n",
       "    .dataframe tbody tr th {\n",
       "        vertical-align: top;\n",
       "    }\n",
       "\n",
       "    .dataframe thead th {\n",
       "        text-align: right;\n",
       "    }\n",
       "</style>\n",
       "<table border=\"1\" class=\"dataframe\">\n",
       "  <thead>\n",
       "    <tr style=\"text-align: right;\">\n",
       "      <th></th>\n",
       "      <th>Company</th>\n",
       "      <th>gdm_no</th>\n",
       "      <th>from_branch</th>\n",
       "      <th>to_branch</th>\n",
       "      <th>lr_hire_date</th>\n",
       "      <th>lr_number</th>\n",
       "      <th>lorry_reg_number</th>\n",
       "      <th>LR_no_of_packages</th>\n",
       "      <th>LR_weight</th>\n",
       "      <th>LR_Rate</th>\n",
       "      <th>consignor_addr</th>\n",
       "      <th>from_city</th>\n",
       "      <th>consignor_pincode</th>\n",
       "      <th>consignor_state</th>\n",
       "      <th>consignee_addr</th>\n",
       "      <th>to_city</th>\n",
       "      <th>consignee_pincode</th>\n",
       "      <th>consignee_state</th>\n",
       "      <th>consignee_gstin</th>\n",
       "      <th>consignor_gstin</th>\n",
       "      <th>stat_chg</th>\n",
       "      <th>total_amount</th>\n",
       "    </tr>\n",
       "  </thead>\n",
       "  <tbody>\n",
       "    <tr>\n",
       "      <th>0</th>\n",
       "      <td>Sreeman</td>\n",
       "      <td>37244</td>\n",
       "      <td>M/S. AQUASUB ENGINEERING</td>\n",
       "      <td>M/S. AQUASUB ENGINEERING (VIJ)</td>\n",
       "      <td>2023-12-01</td>\n",
       "      <td>195989</td>\n",
       "      <td>TN52H3935</td>\n",
       "      <td>219</td>\n",
       "      <td>10897.0</td>\n",
       "      <td>2.32</td>\n",
       "      <td>THUDIYALUR POST, METTUPALAYAM ROAD,</td>\n",
       "      <td>Coimbatore</td>\n",
       "      <td>641034</td>\n",
       "      <td>Tamil Nadu</td>\n",
       "      <td>75,76 AND 77 BLOCK NO. 05 NEW AUTO NAGAR KANUR...</td>\n",
       "      <td>Vijayawada</td>\n",
       "      <td>520007</td>\n",
       "      <td>Andhra Pradesh</td>\n",
       "      <td>37AADFA8028P1Z1</td>\n",
       "      <td>33AADFA8028P1Z9</td>\n",
       "      <td>15</td>\n",
       "      <td>25296.0</td>\n",
       "    </tr>\n",
       "    <tr>\n",
       "      <th>1</th>\n",
       "      <td>Sreeman</td>\n",
       "      <td>37250</td>\n",
       "      <td>M/S. AQUASUB ENGINEERING</td>\n",
       "      <td>M/S. AQUASUB ENGINEERING (VIJ)</td>\n",
       "      <td>2023-12-04</td>\n",
       "      <td>196016</td>\n",
       "      <td>TN28BY1188</td>\n",
       "      <td>142</td>\n",
       "      <td>6577.0</td>\n",
       "      <td>2.32</td>\n",
       "      <td>THUDIYALUR POST, METTUPALAYAM ROAD,</td>\n",
       "      <td>Coimbatore</td>\n",
       "      <td>641034</td>\n",
       "      <td>Tamil Nadu</td>\n",
       "      <td>75,76 AND 77 BLOCK NO. 05 NEW AUTO NAGAR KANUR...</td>\n",
       "      <td>Vijayawada</td>\n",
       "      <td>520007</td>\n",
       "      <td>Andhra Pradesh</td>\n",
       "      <td>37AADFA8028P1Z1</td>\n",
       "      <td>33AADFA8028P1Z9</td>\n",
       "      <td>15</td>\n",
       "      <td>15274.0</td>\n",
       "    </tr>\n",
       "    <tr>\n",
       "      <th>2</th>\n",
       "      <td>Sreeman</td>\n",
       "      <td>37254</td>\n",
       "      <td>M/S. AQUASUB ENGINEERING</td>\n",
       "      <td>M/S. AQUASUB ENGINEERING (VIJ)</td>\n",
       "      <td>2023-12-06</td>\n",
       "      <td>196032</td>\n",
       "      <td>TN52AA4821</td>\n",
       "      <td>248</td>\n",
       "      <td>14003.0</td>\n",
       "      <td>2.32</td>\n",
       "      <td>THUDIYALUR POST, METTUPALAYAM ROAD,</td>\n",
       "      <td>Coimbatore</td>\n",
       "      <td>641034</td>\n",
       "      <td>Tamil Nadu</td>\n",
       "      <td>75,76 AND 77 BLOCK NO. 05 NEW AUTO NAGAR KANUR...</td>\n",
       "      <td>Vijayawada</td>\n",
       "      <td>520007</td>\n",
       "      <td>Andhra Pradesh</td>\n",
       "      <td>37AADFA8028P1Z1</td>\n",
       "      <td>33AADFA8028P1Z9</td>\n",
       "      <td>15</td>\n",
       "      <td>32502.0</td>\n",
       "    </tr>\n",
       "    <tr>\n",
       "      <th>3</th>\n",
       "      <td>Sreeman</td>\n",
       "      <td>37257</td>\n",
       "      <td>M/S. AQUASUB ENGINEERING</td>\n",
       "      <td>M/S. AQUASUB ENGINEERING (VIJ)</td>\n",
       "      <td>2023-12-07</td>\n",
       "      <td>196047</td>\n",
       "      <td>TN52P9157</td>\n",
       "      <td>174</td>\n",
       "      <td>9550.0</td>\n",
       "      <td>2.32</td>\n",
       "      <td>THUDIYALUR POST, METTUPALAYAM ROAD,</td>\n",
       "      <td>Coimbatore</td>\n",
       "      <td>641034</td>\n",
       "      <td>Tamil Nadu</td>\n",
       "      <td>75,76 AND 77 BLOCK NO. 05 NEW AUTO NAGAR KANUR...</td>\n",
       "      <td>Vijayawada</td>\n",
       "      <td>520007</td>\n",
       "      <td>Andhra Pradesh</td>\n",
       "      <td>37AADFA8028P1Z1</td>\n",
       "      <td>33AADFA8028P1Z9</td>\n",
       "      <td>15</td>\n",
       "      <td>22171.0</td>\n",
       "    </tr>\n",
       "    <tr>\n",
       "      <th>4</th>\n",
       "      <td>Sreeman</td>\n",
       "      <td>37261</td>\n",
       "      <td>M/S. AQUASUB ENGINEERING</td>\n",
       "      <td>M/S. AQUASUB ENGINEERING (VIJ)</td>\n",
       "      <td>2023-12-09</td>\n",
       "      <td>196064</td>\n",
       "      <td>TN34W5060</td>\n",
       "      <td>286</td>\n",
       "      <td>13921.0</td>\n",
       "      <td>2.32</td>\n",
       "      <td>THUDIYALUR POST, METTUPALAYAM ROAD,</td>\n",
       "      <td>Coimbatore</td>\n",
       "      <td>641034</td>\n",
       "      <td>Tamil Nadu</td>\n",
       "      <td>75,76 AND 77 BLOCK NO. 05 NEW AUTO NAGAR KANUR...</td>\n",
       "      <td>Vijayawada</td>\n",
       "      <td>520007</td>\n",
       "      <td>Andhra Pradesh</td>\n",
       "      <td>37AADFA8028P1Z1</td>\n",
       "      <td>33AADFA8028P1Z9</td>\n",
       "      <td>15</td>\n",
       "      <td>32312.0</td>\n",
       "    </tr>\n",
       "  </tbody>\n",
       "</table>\n",
       "</div>"
      ],
      "text/plain": [
       "   Company  gdm_no               from_branch                       to_branch lr_hire_date  lr_number lorry_reg_number  LR_no_of_packages  LR_weight  LR_Rate                       consignor_addr   from_city consignor_pincode consignor_state                                     consignee_addr     to_city consignee_pincode consignee_state  consignee_gstin  consignor_gstin  stat_chg  total_amount\n",
       "0  Sreeman   37244  M/S. AQUASUB ENGINEERING  M/S. AQUASUB ENGINEERING (VIJ)   2023-12-01     195989        TN52H3935                219    10897.0     2.32  THUDIYALUR POST, METTUPALAYAM ROAD,  Coimbatore            641034      Tamil Nadu  75,76 AND 77 BLOCK NO. 05 NEW AUTO NAGAR KANUR...  Vijayawada            520007  Andhra Pradesh  37AADFA8028P1Z1  33AADFA8028P1Z9        15       25296.0\n",
       "1  Sreeman   37250  M/S. AQUASUB ENGINEERING  M/S. AQUASUB ENGINEERING (VIJ)   2023-12-04     196016       TN28BY1188                142     6577.0     2.32  THUDIYALUR POST, METTUPALAYAM ROAD,  Coimbatore            641034      Tamil Nadu  75,76 AND 77 BLOCK NO. 05 NEW AUTO NAGAR KANUR...  Vijayawada            520007  Andhra Pradesh  37AADFA8028P1Z1  33AADFA8028P1Z9        15       15274.0\n",
       "2  Sreeman   37254  M/S. AQUASUB ENGINEERING  M/S. AQUASUB ENGINEERING (VIJ)   2023-12-06     196032       TN52AA4821                248    14003.0     2.32  THUDIYALUR POST, METTUPALAYAM ROAD,  Coimbatore            641034      Tamil Nadu  75,76 AND 77 BLOCK NO. 05 NEW AUTO NAGAR KANUR...  Vijayawada            520007  Andhra Pradesh  37AADFA8028P1Z1  33AADFA8028P1Z9        15       32502.0\n",
       "3  Sreeman   37257  M/S. AQUASUB ENGINEERING  M/S. AQUASUB ENGINEERING (VIJ)   2023-12-07     196047        TN52P9157                174     9550.0     2.32  THUDIYALUR POST, METTUPALAYAM ROAD,  Coimbatore            641034      Tamil Nadu  75,76 AND 77 BLOCK NO. 05 NEW AUTO NAGAR KANUR...  Vijayawada            520007  Andhra Pradesh  37AADFA8028P1Z1  33AADFA8028P1Z9        15       22171.0\n",
       "4  Sreeman   37261  M/S. AQUASUB ENGINEERING  M/S. AQUASUB ENGINEERING (VIJ)   2023-12-09     196064        TN34W5060                286    13921.0     2.32  THUDIYALUR POST, METTUPALAYAM ROAD,  Coimbatore            641034      Tamil Nadu  75,76 AND 77 BLOCK NO. 05 NEW AUTO NAGAR KANUR...  Vijayawada            520007  Andhra Pradesh  37AADFA8028P1Z1  33AADFA8028P1Z9        15       32312.0"
      ]
     },
     "execution_count": 41,
     "metadata": {},
     "output_type": "execute_result"
    }
   ],
   "source": [
    "df4"
   ]
  },
  {
   "cell_type": "code",
   "execution_count": 24,
   "id": "01e2e9bf",
   "metadata": {},
   "outputs": [],
   "source": [
    "consignor_addr=df4['consignor_addr'].unique()[0]\n",
    "consignor_pincode=df4['consignor_pincode'].unique()[0]\n",
    "consignor_state=df4['consignor_state'].unique()[0]\n",
    "from_city=df4['from_city'].unique()[0]\n"
   ]
  },
  {
   "cell_type": "code",
   "execution_count": 9,
   "id": "406fc1c7",
   "metadata": {},
   "outputs": [],
   "source": [
    "consignee_addr=df4['consignee_addr'].unique()[0]\n",
    "consignee_pincode=df4['consignee_pincode'].unique()[0]\n",
    "consignee_state=df4['consignee_state'].unique()[0]\n",
    "to_city=df4['to_city'].unique()[0]\n"
   ]
  },
  {
   "cell_type": "code",
   "execution_count": 10,
   "id": "3a33efd3",
   "metadata": {},
   "outputs": [],
   "source": [
    "consignor_addr_combined=consignor_addr.lower()+\" \"+from_city.upper()+\" \"+consignor_pincode\n",
    "consignee_addr_combined=consignee_addr.lower()+\" \"+to_city.upper()+\" \"+consignee_pincode"
   ]
  },
  {
   "cell_type": "code",
   "execution_count": 11,
   "id": "ca96e0a1",
   "metadata": {},
   "outputs": [],
   "source": [
    "LR_no_of_packages=df4['LR_no_of_packages'].sum()\n",
    "LR_weight=df4['LR_weight'].sum()\n",
    "total_amount=df4['total_amount'].sum()"
   ]
  },
  {
   "cell_type": "code",
   "execution_count": 12,
   "id": "83b38222",
   "metadata": {},
   "outputs": [],
   "source": [
    "import inflect"
   ]
  },
  {
   "cell_type": "code",
   "execution_count": 13,
   "id": "ef8ca364",
   "metadata": {},
   "outputs": [],
   "source": [
    "total_amount=33186\n",
    "def number_to_words(number):\n",
    "    p = inflect.engine()\n",
    "    words = p.number_to_words(number,andword=\"and\")\n",
    "    words = words.replace(',', '')  # Remove the comma\n",
    "    return words\n",
    "\n",
    "words = number_to_words(total_amount)\n",
    "word_expand=words.capitalize() + \" only\"\n"
   ]
  },
  {
   "cell_type": "code",
   "execution_count": 14,
   "id": "6fd5d565",
   "metadata": {},
   "outputs": [
    {
     "data": {
      "text/plain": [
       "'Thirty-three thousand one hundred and eighty-six only'"
      ]
     },
     "execution_count": 14,
     "metadata": {},
     "output_type": "execute_result"
    }
   ],
   "source": [
    "word_expand\n"
   ]
  },
  {
   "cell_type": "code",
   "execution_count": 15,
   "id": "c2a41ffb",
   "metadata": {},
   "outputs": [
    {
     "ename": "SyntaxError",
     "evalue": "invalid syntax (1698275974.py, line 1)",
     "output_type": "error",
     "traceback": [
      "\u001b[1;36m  Cell \u001b[1;32mIn[15], line 1\u001b[1;36m\u001b[0m\n\u001b[1;33m    CGST_RATE=2.5%\u001b[0m\n\u001b[1;37m                  ^\u001b[0m\n\u001b[1;31mSyntaxError\u001b[0m\u001b[1;31m:\u001b[0m invalid syntax\n"
     ]
    }
   ],
   "source": [
    "CGST_RATE=2.5%\n",
    "SGST_RATE=2.5%\n",
    "IGST_RATE=5%"
   ]
  },
  {
   "cell_type": "code",
   "execution_count": 16,
   "id": "fd2583c7",
   "metadata": {},
   "outputs": [],
   "source": [
    "total_amount=2930\n",
    "CGST_AMOUNT=(2.5/100)*total_amount\n",
    "CGST_AMOUNT=round(CGST_AMOUNT,2)\n",
    "SGST_AMOUNT=(2.5/100)*total_amount\n",
    "SGST_AMOUNT=round(CGST_AMOUNT,2)\n",
    "TOTAL_AMOUNT_GST=CGST_AMOUNT+SGST_AMOUNT\n"
   ]
  },
  {
   "cell_type": "code",
   "execution_count": 17,
   "id": "ad5fdaef",
   "metadata": {},
   "outputs": [],
   "source": [
    "IGST_AMOUNT=(5/100)*total_amount\n",
    "IGST_AMOUNT=IGST_AMOUNT"
   ]
  },
  {
   "cell_type": "code",
   "execution_count": 18,
   "id": "0bff8852",
   "metadata": {},
   "outputs": [
    {
     "data": {
      "text/plain": [
       "(73.25, 73.25, 146.5, 146.5)"
      ]
     },
     "execution_count": 18,
     "metadata": {},
     "output_type": "execute_result"
    }
   ],
   "source": [
    "SGST_AMOUNT,SGST_AMOUNT,TOTAL_AMOUNT_GST,IGST_AMOUNT"
   ]
  },
  {
   "cell_type": "code",
   "execution_count": 19,
   "id": "267be9b1",
   "metadata": {},
   "outputs": [
    {
     "data": {
      "text/plain": [
       "73.25"
      ]
     },
     "execution_count": 19,
     "metadata": {},
     "output_type": "execute_result"
    }
   ],
   "source": [
    "round(SGST_AMOUNT,2)"
   ]
  },
  {
   "cell_type": "code",
   "execution_count": null,
   "id": "8b593e2f",
   "metadata": {},
   "outputs": [],
   "source": []
  }
 ],
 "metadata": {
  "kernelspec": {
   "display_name": "Python 3 (ipykernel)",
   "language": "python",
   "name": "python3"
  },
  "language_info": {
   "codemirror_mode": {
    "name": "ipython",
    "version": 3
   },
   "file_extension": ".py",
   "mimetype": "text/x-python",
   "name": "python",
   "nbconvert_exporter": "python",
   "pygments_lexer": "ipython3",
   "version": "3.12.1"
  }
 },
 "nbformat": 4,
 "nbformat_minor": 5
}
