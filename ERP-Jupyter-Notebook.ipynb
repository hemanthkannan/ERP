{
 "cells": [
  {
   "cell_type": "code",
   "execution_count": 1,
   "id": "68396670",
   "metadata": {},
   "outputs": [],
   "source": [
    "import pandas as pd\n",
    "import pyodbc as pc\n",
    "from sqlalchemy import create_engine\n",
    "import datetime as datetime\n",
    "pd.set_option('display.max_rows',500)\n",
    "pd.set_option('display.max_columns',500)\n",
    "pd.set_option('display.width',5000)"
   ]
  },
  {
   "cell_type": "code",
   "execution_count": 2,
   "id": "a569ce3d",
   "metadata": {},
   "outputs": [
    {
     "name": "stderr",
     "output_type": "stream",
     "text": [
      "<>:4: SyntaxWarning: invalid escape sequence '\\S'\n",
      "<>:15: SyntaxWarning: invalid escape sequence '\\S'\n",
      "<>:4: SyntaxWarning: invalid escape sequence '\\S'\n",
      "<>:15: SyntaxWarning: invalid escape sequence '\\S'\n",
      "C:\\Users\\new\\AppData\\Local\\Temp\\ipykernel_6968\\3544130938.py:4: SyntaxWarning: invalid escape sequence '\\S'\n",
      "  server = 'DESKTOP-L57QDTP\\SQLEXPRESS'\n",
      "C:\\Users\\new\\AppData\\Local\\Temp\\ipykernel_6968\\3544130938.py:15: SyntaxWarning: invalid escape sequence '\\S'\n",
      "  server1 = 'DESKTOP-L57QDTP\\SQLEXPRESS'\n",
      "C:\\Users\\new\\AppData\\Local\\Temp\\ipykernel_6968\\3544130938.py:25: UserWarning: pandas only supports SQLAlchemy connectable (engine/connection) or database string URI or sqlite3 DBAPI2 connection. Other DBAPI2 objects are not tested. Please consider using SQLAlchemy.\n",
      "  df_sreem = pd.read_sql(sql,conn)\n",
      "C:\\Users\\new\\AppData\\Local\\Temp\\ipykernel_6968\\3544130938.py:28: UserWarning: pandas only supports SQLAlchemy connectable (engine/connection) or database string URI or sqlite3 DBAPI2 connection. Other DBAPI2 objects are not tested. Please consider using SQLAlchemy.\n",
      "  df_suri = pd.read_sql(sql1,conn1)\n"
     ]
    }
   ],
   "source": [
    "databaseName = 'sreeman_live'\n",
    "username = 'sa'\n",
    "password = 'Hemanth@123'\n",
    "server = 'DESKTOP-L57QDTP\\SQLEXPRESS'\n",
    "driver= '{SQL Server Native Client 10.0}'\n",
    "CONNECTION_STRING = 'DRIVER='+driver+';SERVER='+server+';DATABASE='+databaseName+';UID='+username+';PWD='+ password\n",
    "#Create/Open a Connection to Microsoft's SQL Server\n",
    "conn = pc.connect(CONNECTION_STRING)\n",
    "#Close the Connection\n",
    "#conn.close()\n",
    "\n",
    "databaseName1 = 'suriya_live'\n",
    "username1 = 'sa'\n",
    "password1 = 'Hemanth@123'\n",
    "server1 = 'DESKTOP-L57QDTP\\SQLEXPRESS'\n",
    "driver1= '{SQL Server Native Client 10.0}'\n",
    "\n",
    "CONNECTION_STRING2 = 'DRIVER='+driver1+';SERVER='+server1+';DATABASE='+databaseName1+';UID='+username1+';PWD='+ password1\n",
    "#Create/Open a Connection to Microsoft's SQL Server\n",
    "conn1 = pc.connect(CONNECTION_STRING2)\n",
    "#Close the Connection\n",
    "#conn.close()\n",
    "\n",
    "sql = \"SELECT * FROM DBO.Sreeman_full_data_view\"\n",
    "df_sreem = pd.read_sql(sql,conn)\n",
    "\n",
    "sql1 = \"SELECT * FROM DBO.Suriya_full_data_view\"\n",
    "df_suri = pd.read_sql(sql1,conn1)"
   ]
  },
  {
   "cell_type": "code",
   "execution_count": null,
   "id": "83a7f906-6675-4826-9a84-18fe375ccc35",
   "metadata": {},
   "outputs": [],
   "source": [
    "# Set up the connections\n",
    "databaseName = 'sreeman_live'\n",
    "username = 'sa'\n",
    "password = 'sa'\n",
    "server = 'SREEMAN-NEW'\n",
    "driver = '{SQL Server Native Client 10.0}'\n",
    "CONNECTION_STRING = 'DRIVER=' + driver + ';SERVER=' + server + ';DATABASE=' + databaseName + ';UID=' + username + ';PWD=' + password\n",
    "\n",
    "databaseName1 = 'suriya_live'\n",
    "username1 = 'sa'\n",
    "password1 = 'sa'\n",
    "server1 = 'SREEMAN-NEW'\n",
    "driver1 = '{SQL Server Native Client 10.0}'\n",
    "CONNECTION_STRING2 = 'DRIVER=' + driver1 + ';SERVER=' + server1 + ';DATABASE=' + databaseName1 + ';UID=' + username1 + ';PWD=' + password1\n",
    "\n",
    "# Create/Open connections\n",
    "conn = pc.connect(CONNECTION_STRING)\n",
    "conn1 = pc.connect(CONNECTION_STRING2)\n",
    "\n",
    "# Execute SQL queries and create DataFrames\n",
    "sql = \"SELECT * FROM DBO.Sreeman_full_data_view\"\n",
    "df_sreem = pd.read_sql(sql, conn)\n",
    "\n",
    "sql1 = \"SELECT * FROM DBO.Suriya_full_data_view\"\n",
    "df_suri = pd.read_sql(sql1, conn1)"
   ]
  },
  {
   "cell_type": "code",
   "execution_count": null,
   "id": "abe38540-6895-43a3-962d-bfe5722145f5",
   "metadata": {},
   "outputs": [],
   "source": [
    "#df_sreeman=df_sreeman\n",
    "df_suriya=df_suri\n",
    "df_sreeman=df_sreem\n",
    "\n",
    "df_sreeman['Company']='Sreeman'\n",
    "df_suriya['Company']='Suriya'\n",
    "\n",
    "df = pd.concat([df_sreeman, df_suriya], ignore_index=True)\n",
    "\n",
    "\n",
    "def date_ext_mon1(mon):\n",
    "    datee = datetime.datetime.strptime(mon, \"%Y-%m-%d\")\n",
    "    month = datetime.date(datee.year, datee.month, datee.day).strftime('%B')\n",
    "    return month\n",
    "\n",
    "def date_ext_year1(year):\n",
    "    #print(year)\n",
    "    datee = datetime.datetime.strptime(year, \"%Y-%m-%d\")\n",
    "    Year = datee.year\n",
    "    return Year\n",
    "\n",
    "def date_ext_day1(day):\n",
    "    datee = datetime.datetime.strptime(day, \"%Y-%m-%d\")\n",
    "    Day = datee.day\n",
    "    return Day\n",
    "\n",
    "#this is for sreeman.\n",
    "##this is to filter out the unit wise payment.\n",
    "df['lr_hire_date']= df['lr_hire_date'].astype(str)\n",
    "df['lr_hire_date']= df['lr_hire_date'].astype(str)\n",
    "df['YEAR']=df['lr_hire_date'].apply(lambda x: date_ext_year1(x))\n",
    "df['MONTH']=df['lr_hire_date'].apply(lambda x: date_ext_mon1(x))\n",
    "df['DAY']=df['lr_hire_date'].apply(lambda x: date_ext_day1(x))"
   ]
  },
  {
   "cell_type": "code",
   "execution_count": null,
   "id": "86fa1884",
   "metadata": {},
   "outputs": [],
   "source": [
    "df1=df"
   ]
  },
  {
   "cell_type": "code",
   "execution_count": null,
   "id": "a4a448af",
   "metadata": {},
   "outputs": [],
   "source": [
    "df1=df1[(df1['lr_hire_date']>='2023-12-01') & (df1['lr_hire_date']<='2023-12-09')]"
   ]
  },
  {
   "cell_type": "code",
   "execution_count": null,
   "id": "939bf14b",
   "metadata": {},
   "outputs": [],
   "source": [
    "df1.columns"
   ]
  },
  {
   "cell_type": "code",
   "execution_count": null,
   "id": "8cfb6642",
   "metadata": {},
   "outputs": [],
   "source": [
    "df1['from_branch'].unique()"
   ]
  },
  {
   "cell_type": "code",
   "execution_count": null,
   "id": "d109cf13-b0e5-4db6-a1a9-3927d51d3aad",
   "metadata": {},
   "outputs": [],
   "source": [
    "shipped_from='M/s. AQUAPUMP INDUSTRIES'\n",
    "freight_billed_to='M/s. AQUAPUMP INDUSTRIES (IND)'\n",
    "# dont use this while generating report for invoice for now\n",
    "df1=df1[(df1['from_branch']==shipped_from) & (df1['to_branch']==freight_billed_to)]"
   ]
  },
  {
   "cell_type": "code",
   "execution_count": null,
   "id": "a8077a9d",
   "metadata": {},
   "outputs": [],
   "source": [
    "df2=df1.groupby(['Company','gdm_no','lr_hire_date','lr_number','lorry_reg_number','LR_party_invoice','from_branch','to_branch','LR_no_of_packages','LR_weight','consignor_addr','from_city','consignor_pincode','consignor_state','consignee_addr','to_city','consignee_pincode','consignee_state','consignee_gstin','consignor_gstin'])['LR_Rate'].unique().reset_index().explode('LR_Rate')\n",
    "df3=df2.groupby(['Company','gdm_no','lr_hire_date','lr_number','lorry_reg_number','from_branch','to_branch','LR_weight','LR_Rate','consignor_addr','from_city','consignor_pincode','consignor_state','consignee_addr','to_city','consignee_pincode','consignee_state','consignee_gstin','consignor_gstin']).agg({'LR_no_of_packages':'sum'}).reset_index()\n",
    "df4=df3[['Company','gdm_no','from_branch','to_branch','lr_hire_date','lr_number','lorry_reg_number','LR_no_of_packages','LR_weight','LR_Rate','consignor_addr','from_city','consignor_pincode','consignor_state','consignee_addr','to_city','consignee_pincode','consignee_state','consignee_gstin','consignor_gstin']]\n",
    "df4['stat_chg']=15\n",
    "df4['total_amount']=round((df4['LR_weight']*df4['LR_Rate'])+df4['stat_chg'])\n",
    "#df4=df4[['Company','gdm_no','from_branch','to_branch','lr_hire_date', 'lr_number', 'lorry_reg_number', 'LR_no_of_packages', 'LR_weight', 'LR_Rate','stat_chg', 'total_amount']]\n",
    "df4['lr_hire_date'] = pd.to_datetime(df4['lr_hire_date'])\n",
    "df4['lr_hire_date'] = df4['lr_hire_date'].dt.strftime('%d-%m-%Y')"
   ]
  },
  {
   "cell_type": "code",
   "execution_count": null,
   "id": "478f1bad",
   "metadata": {},
   "outputs": [],
   "source": [
    "df4"
   ]
  },
  {
   "cell_type": "code",
   "execution_count": null,
   "id": "1666919b",
   "metadata": {},
   "outputs": [],
   "source": [
    "if df4['Company'].unique()[0]=='Sreeman':\n",
    "    Company_Name='SREEMAN TRANSPORTS'\n",
    "elif df4['Company'].unique()[0]=='Suriya':\n",
    "    Company_Name='SURIYA CARRIERS'\n",
    "else:\n",
    "    print('Company not listed')"
   ]
  },
  {
   "cell_type": "code",
   "execution_count": null,
   "id": "1d5b9e44",
   "metadata": {},
   "outputs": [],
   "source": [
    "df4.to_excel('taxinvoicereport.xlsx')"
   ]
  },
  {
   "cell_type": "code",
   "execution_count": null,
   "id": "01e2e9bf",
   "metadata": {},
   "outputs": [],
   "source": [
    "consignor_gstin=df4['consignor_gstin'].unique()[0]\n",
    "consignor_addr=df4['consignor_addr'].unique()[0]\n",
    "consignor_pincode=df4['consignor_pincode'].unique()[0]\n",
    "consignor_state=df4['consignor_state'].unique()[0]\n",
    "from_city=df4['from_city'].unique()[0]\n"
   ]
  },
  {
   "cell_type": "code",
   "execution_count": null,
   "id": "406fc1c7",
   "metadata": {},
   "outputs": [],
   "source": [
    "consignee_gstin=df4['consignee_gstin'].unique()[0]\n",
    "consignee_addr=df4['consignee_addr'].unique()[0]\n",
    "consignee_pincode=df4['consignee_pincode'].unique()[0]\n",
    "consignee_state=df4['consignee_state'].unique()[0]\n",
    "to_city=df4['to_city'].unique()[0]\n"
   ]
  },
  {
   "cell_type": "code",
   "execution_count": null,
   "id": "3a33efd3",
   "metadata": {},
   "outputs": [],
   "source": [
    "consignor_addr_combined=consignor_addr.lower()+\" \"+from_city.upper()+\" \"+consignor_pincode\n",
    "consignee_addr_combined=consignee_addr.lower()+\" \"+to_city.upper()+\" \"+consignee_pincode"
   ]
  },
  {
   "cell_type": "code",
   "execution_count": null,
   "id": "ca96e0a1",
   "metadata": {},
   "outputs": [],
   "source": [
    "LR_no_of_packages=df4['LR_no_of_packages'].sum()\n",
    "LR_weight=df4['LR_weight'].sum()\n",
    "total_amount=df4['total_amount'].sum()"
   ]
  },
  {
   "cell_type": "code",
   "execution_count": null,
   "id": "9523b6a6",
   "metadata": {},
   "outputs": [],
   "source": [
    "total_amount"
   ]
  },
  {
   "cell_type": "code",
   "execution_count": 113,
   "id": "83b38222",
   "metadata": {},
   "outputs": [],
   "source": [
    "import inflect"
   ]
  },
  {
   "cell_type": "code",
   "execution_count": 114,
   "id": "ef8ca364",
   "metadata": {},
   "outputs": [],
   "source": [
    "total_amount=33186\n",
    "def number_to_words(number):\n",
    "    p = inflect.engine()\n",
    "    words = p.number_to_words(number,andword=\"and\")\n",
    "    words = words.replace(',', '')  # Remove the comma\n",
    "    return words\n",
    "\n",
    "words = number_to_words(total_amount)\n",
    "word_expand=words.capitalize() + \" only\"\n"
   ]
  },
  {
   "cell_type": "code",
   "execution_count": 115,
   "id": "6fd5d565",
   "metadata": {},
   "outputs": [
    {
     "data": {
      "text/plain": [
       "'Thirty-three thousand one hundred and eighty-six only'"
      ]
     },
     "execution_count": 115,
     "metadata": {},
     "output_type": "execute_result"
    }
   ],
   "source": [
    "word_expand\n"
   ]
  },
  {
   "cell_type": "code",
   "execution_count": 116,
   "id": "c2a41ffb",
   "metadata": {},
   "outputs": [],
   "source": [
    "CGST_RATE='2.5%'\n",
    "SGST_RATE='2.5%'\n",
    "IGST_RATE='5%'"
   ]
  },
  {
   "cell_type": "code",
   "execution_count": 117,
   "id": "fd2583c7",
   "metadata": {},
   "outputs": [],
   "source": [
    "total_amount=2930\n",
    "CGST_AMOUNT=(2.5/100)*total_amount\n",
    "CGST_AMOUNT=round(CGST_AMOUNT,2)\n",
    "SGST_AMOUNT=(2.5/100)*total_amount\n",
    "SGST_AMOUNT=round(CGST_AMOUNT,2)\n",
    "TOTAL_AMOUNT_GST=CGST_AMOUNT+SGST_AMOUNT\n",
    "IGST_AMOUNT=(5/100)*total_amount\n",
    "IGST_AMOUNT=IGST_AMOUNT"
   ]
  },
  {
   "cell_type": "code",
   "execution_count": 118,
   "id": "0bff8852",
   "metadata": {},
   "outputs": [
    {
     "data": {
      "text/plain": [
       "(73.25, 73.25, 146.5, 146.5)"
      ]
     },
     "execution_count": 118,
     "metadata": {},
     "output_type": "execute_result"
    }
   ],
   "source": [
    "SGST_AMOUNT,SGST_AMOUNT,TOTAL_AMOUNT_GST,IGST_AMOUNT"
   ]
  },
  {
   "cell_type": "code",
   "execution_count": 127,
   "id": "348c89d4",
   "metadata": {},
   "outputs": [
    {
     "data": {
      "text/plain": [
       "0    1\n",
       "1    1\n",
       "Name: LR_Rate, dtype: int32"
      ]
     },
     "execution_count": 127,
     "metadata": {},
     "output_type": "execute_result"
    }
   ],
   "source": [
    "df4['LR_Rate'].astype(int)"
   ]
  },
  {
   "cell_type": "code",
   "execution_count": 130,
   "id": "2e6b83a2",
   "metadata": {},
   "outputs": [
    {
     "data": {
      "text/plain": [
       "0    0.01\n",
       "1    0.01\n",
       "Name: LR_Rate, dtype: float64"
      ]
     },
     "execution_count": 130,
     "metadata": {},
     "output_type": "execute_result"
    }
   ],
   "source": []
  },
  {
   "cell_type": "code",
   "execution_count": 131,
   "id": "c445a652",
   "metadata": {},
   "outputs": [
    {
     "name": "stderr",
     "output_type": "stream",
     "text": [
      "C:\\Users\\Dell\\AppData\\Local\\Temp/ipykernel_9496/3363364578.py:1: SettingWithCopyWarning: \n",
      "A value is trying to be set on a copy of a slice from a DataFrame.\n",
      "Try using .loc[row_indexer,col_indexer] = value instead\n",
      "\n",
      "See the caveats in the documentation: https://pandas.pydata.org/pandas-docs/stable/user_guide/indexing.html#returning-a-view-versus-a-copy\n",
      "  df4['LR_Rate'] = df4['LR_Rate'].astype(float) / 100\n",
      "C:\\Users\\Dell\\AppData\\Local\\Temp/ipykernel_9496/3363364578.py:2: SettingWithCopyWarning: \n",
      "A value is trying to be set on a copy of a slice from a DataFrame.\n",
      "Try using .loc[row_indexer,col_indexer] = value instead\n",
      "\n",
      "See the caveats in the documentation: https://pandas.pydata.org/pandas-docs/stable/user_guide/indexing.html#returning-a-view-versus-a-copy\n",
      "  df4['LR_Rate'] = df4['LR_Rate'].round(2)\n"
     ]
    }
   ],
   "source": [
    "df4['LR_Rate'] = df4['LR_Rate'].astype(float) / 100\n",
    "df4['LR_Rate'] = df4['LR_Rate'].round(2)"
   ]
  },
  {
   "cell_type": "code",
   "execution_count": 147,
   "id": "9e9d2bde",
   "metadata": {},
   "outputs": [
    {
     "data": {
      "text/plain": [
       "0    1.00\n",
       "1    1.00\n",
       "Name: LR_Rate, dtype: object"
      ]
     },
     "execution_count": 147,
     "metadata": {},
     "output_type": "execute_result"
    }
   ],
   "source": [
    "df4['LR_Rate']=df4['LR_Rate'].map(\"{:.2f}\".format)"
   ]
  },
  {
   "cell_type": "code",
   "execution_count": 148,
   "id": "032ae232",
   "metadata": {},
   "outputs": [
    {
     "data": {
      "text/plain": [
       "'4234234.00'"
      ]
     },
     "execution_count": 148,
     "metadata": {},
     "output_type": "execute_result"
    }
   ],
   "source": [
    "total_amount=4234234\n",
    "\"{:.2f}\".format(total_amount)"
   ]
  },
  {
   "cell_type": "code",
   "execution_count": 2,
   "id": "ae5b2db3",
   "metadata": {},
   "outputs": [],
   "source": [
    "var=127555.76"
   ]
  },
  {
   "cell_type": "code",
   "execution_count": 5,
   "id": "9d2c75ad",
   "metadata": {},
   "outputs": [],
   "source": [
    "rounder_var=round(var)"
   ]
  },
  {
   "cell_type": "code",
   "execution_count": 15,
   "id": "431f134d",
   "metadata": {},
   "outputs": [
    {
     "data": {
      "text/plain": [
       "0.24"
      ]
     },
     "execution_count": 15,
     "metadata": {},
     "output_type": "execute_result"
    }
   ],
   "source": [
    "round(rounder_var-var,2)"
   ]
  },
  {
   "cell_type": "code",
   "execution_count": 9,
   "id": "ccd9f0d2",
   "metadata": {},
   "outputs": [],
   "source": [
    "var1=127555.34"
   ]
  },
  {
   "cell_type": "code",
   "execution_count": 10,
   "id": "324a1324",
   "metadata": {},
   "outputs": [],
   "source": [
    "rounder_var1=round(var1)"
   ]
  },
  {
   "cell_type": "code",
   "execution_count": 12,
   "id": "2d65cfb0",
   "metadata": {},
   "outputs": [
    {
     "data": {
      "text/plain": [
       "127555"
      ]
     },
     "execution_count": 12,
     "metadata": {},
     "output_type": "execute_result"
    }
   ],
   "source": [
    "rounder_var1"
   ]
  },
  {
   "cell_type": "code",
   "execution_count": 14,
   "id": "52870717",
   "metadata": {},
   "outputs": [
    {
     "data": {
      "text/plain": [
       "-0.34"
      ]
     },
     "execution_count": 14,
     "metadata": {},
     "output_type": "execute_result"
    }
   ],
   "source": [
    "round(rounder_var1-var1,2)"
   ]
  },
  {
   "cell_type": "code",
   "execution_count": 18,
   "id": "296290bd",
   "metadata": {},
   "outputs": [
    {
     "ename": "AttributeError",
     "evalue": "'engine' object has no attribute 'set_determiner_suffix'",
     "output_type": "error",
     "traceback": [
      "\u001b[1;31m---------------------------------------------------------------------------\u001b[0m",
      "\u001b[1;31mAttributeError\u001b[0m                            Traceback (most recent call last)",
      "\u001b[1;32m~\\AppData\\Local\\Temp/ipykernel_8752/2839779752.py\u001b[0m in \u001b[0;36m<module>\u001b[1;34m\u001b[0m\n\u001b[0;32m     16\u001b[0m \u001b[1;33m\u001b[0m\u001b[0m\n\u001b[0;32m     17\u001b[0m \u001b[0mtotal_amount\u001b[0m \u001b[1;33m=\u001b[0m \u001b[1;36m33186\u001b[0m\u001b[1;33m\u001b[0m\u001b[1;33m\u001b[0m\u001b[0m\n\u001b[1;32m---> 18\u001b[1;33m \u001b[0mwords_indian\u001b[0m \u001b[1;33m=\u001b[0m \u001b[0mnumber_to_words_indian\u001b[0m\u001b[1;33m(\u001b[0m\u001b[0mtotal_amount\u001b[0m\u001b[1;33m)\u001b[0m\u001b[1;33m\u001b[0m\u001b[1;33m\u001b[0m\u001b[0m\n\u001b[0m\u001b[0;32m     19\u001b[0m \u001b[0mword_expand_indian\u001b[0m \u001b[1;33m=\u001b[0m \u001b[0mwords_indian\u001b[0m\u001b[1;33m.\u001b[0m\u001b[0mcapitalize\u001b[0m\u001b[1;33m(\u001b[0m\u001b[1;33m)\u001b[0m \u001b[1;33m+\u001b[0m \u001b[1;34m\" only\"\u001b[0m\u001b[1;33m\u001b[0m\u001b[1;33m\u001b[0m\u001b[0m\n\u001b[0;32m     20\u001b[0m \u001b[1;33m\u001b[0m\u001b[0m\n",
      "\u001b[1;32m~\\AppData\\Local\\Temp/ipykernel_8752/2839779752.py\u001b[0m in \u001b[0;36mnumber_to_words_indian\u001b[1;34m(number)\u001b[0m\n\u001b[0;32m      5\u001b[0m \u001b[1;33m\u001b[0m\u001b[0m\n\u001b[0;32m      6\u001b[0m     \u001b[1;31m# Set the Indian numbering system (assuming correct method):\u001b[0m\u001b[1;33m\u001b[0m\u001b[1;33m\u001b[0m\u001b[0m\n\u001b[1;32m----> 7\u001b[1;33m     \u001b[0mp\u001b[0m\u001b[1;33m.\u001b[0m\u001b[0mset_determiner_suffix\u001b[0m\u001b[1;33m(\u001b[0m\u001b[1;34m\"en_IN\"\u001b[0m\u001b[1;33m)\u001b[0m  \u001b[1;31m# Replace with the actual method if different\u001b[0m\u001b[1;33m\u001b[0m\u001b[1;33m\u001b[0m\u001b[0m\n\u001b[0m\u001b[0;32m      8\u001b[0m \u001b[1;33m\u001b[0m\u001b[0m\n\u001b[0;32m      9\u001b[0m     \u001b[1;31m# Convert number to words\u001b[0m\u001b[1;33m\u001b[0m\u001b[1;33m\u001b[0m\u001b[0m\n",
      "\u001b[1;31mAttributeError\u001b[0m: 'engine' object has no attribute 'set_determiner_suffix'"
     ]
    }
   ],
   "source": [
    "import inflect\n",
    "\n",
    "def number_to_words_indian(number):\n",
    "    p = inflect.engine()\n",
    "\n",
    "    # Set the Indian numbering system (assuming correct method):\n",
    "    p.set_determiner_suffix(\"en_IN\")  # Replace with the actual method if different\n",
    "\n",
    "    # Convert number to words\n",
    "    words = p.number_to_words(number, andword=\"and\")\n",
    "\n",
    "    # Remove the comma\n",
    "    words = words.replace(',', '')\n",
    "\n",
    "    return words\n",
    "\n",
    "total_amount = 33186\n",
    "words_indian = number_to_words_indian(total_amount)\n",
    "word_expand_indian = words_indian.capitalize() + \" only\"\n",
    "\n",
    "print(word_expand_indian)  # Should output in Indian system if configuration is correct\n"
   ]
  },
  {
   "cell_type": "code",
   "execution_count": 44,
   "id": "7d671800",
   "metadata": {},
   "outputs": [
    {
     "name": "stdout",
     "output_type": "stream",
     "text": [
      "Four lakh fifty two thousand four hundred fifty four only\n"
     ]
    }
   ],
   "source": [
    "def number_to_words_indian(number):\n",
    "    units = [\"\", \"one\", \"two\", \"three\", \"four\", \"five\", \"six\", \"seven\", \"eight\", \"nine\"]\n",
    "    teens = [\"ten\", \"eleven\", \"twelve\", \"thirteen\", \"fourteen\", \"fifteen\", \"sixteen\", \"seventeen\", \"eighteen\", \"nineteen\"]\n",
    "    tens = [\"\", \"\", \"twenty\", \"thirty\", \"forty\", \"fifty\", \"sixty\", \"seventy\", \"eighty\", \"ninety\"]\n",
    "\n",
    "    def convert_integer_part(number):\n",
    "        words = []\n",
    "        if number >= 10000000:\n",
    "            crores = number // 10000000\n",
    "            words.extend(convert_integer_part(crores))\n",
    "            words.append(\"crore\")\n",
    "            number %= 10000000\n",
    "        if number >= 100000:\n",
    "            lakhs = number // 100000\n",
    "            words.extend(convert_integer_part(lakhs))\n",
    "            words.append(\"lakh\")\n",
    "            number %= 100000\n",
    "        if number >= 1000:\n",
    "            thousands = number // 1000\n",
    "            words.extend(convert_integer_part(thousands))\n",
    "            words.append(\"thousand\")\n",
    "            number %= 1000\n",
    "        if number >= 100:\n",
    "            hundreds = number // 100\n",
    "            words.append(units[hundreds])\n",
    "            words.append(\"hundred\")\n",
    "            number %= 100\n",
    "        if number > 0:\n",
    "            if number < 20:\n",
    "                words.append(units[number])\n",
    "            else:\n",
    "                words.append(tens[number // 10])\n",
    "                if number % 10 > 0:\n",
    "                    words.append(units[number % 10])\n",
    "        return words\n",
    "\n",
    "    def convert_decimal_part(number):\n",
    "        words = []\n",
    "        decimal_digits = str(number).split(\".\")[1] if \".\" in str(number) else \"0\"\n",
    "        if decimal_digits != \"00\" and decimal_digits != \"0\":\n",
    "            words.append(\"and\")\n",
    "            decimal_in_words = convert_integer_part(int(decimal_digits))\n",
    "            words.extend(decimal_in_words)\n",
    "            words.append(\"paise\")\n",
    "        return words\n",
    "\n",
    "    words = []\n",
    "    integer_part, decimal_part = str(number).split(\".\") if \".\" in str(number) else (str(number), \"0\")\n",
    "    words.extend(convert_integer_part(int(integer_part)))\n",
    "    if decimal_part:  # Check if a decimal part exists\n",
    "        words.extend(convert_decimal_part(float(\"0.\" + decimal_part)))\n",
    "\n",
    "    return \" \".join(words).capitalize() + \" only\"\n",
    "\n",
    "# Example usage:\n",
    "number = 452454\n",
    "result = number_to_words_indian(number)\n",
    "print(result)\n"
   ]
  },
  {
   "cell_type": "code",
   "execution_count": null,
   "id": "32b079eb",
   "metadata": {},
   "outputs": [],
   "source": [
    "print(result) "
   ]
  }
 ],
 "metadata": {
  "kernelspec": {
   "display_name": "Python 3 (ipykernel)",
   "language": "python",
   "name": "python3"
  },
  "language_info": {
   "codemirror_mode": {
    "name": "ipython",
    "version": 3
   },
   "file_extension": ".py",
   "mimetype": "text/x-python",
   "name": "python",
   "nbconvert_exporter": "python",
   "pygments_lexer": "ipython3",
   "version": "3.9.7"
  }
 },
 "nbformat": 4,
 "nbformat_minor": 5
}
